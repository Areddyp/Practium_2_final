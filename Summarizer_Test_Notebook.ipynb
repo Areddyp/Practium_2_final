{
 "cells": [
  {
   "cell_type": "markdown",
   "id": "78f0b93e",
   "metadata": {},
   "source": [
    "### Importing libraries"
   ]
  },
  {
   "cell_type": "code",
   "execution_count": 1,
   "id": "86521943",
   "metadata": {},
   "outputs": [
    {
     "name": "stderr",
     "output_type": "stream",
     "text": [
      "/Users/a81081529/.pyenv/versions/3.10.11/lib/python3.10/site-packages/tqdm/auto.py:21: TqdmWarning: IProgress not found. Please update jupyter and ipywidgets. See https://ipywidgets.readthedocs.io/en/stable/user_install.html\n",
      "  from .autonotebook import tqdm as notebook_tqdm\n",
      "[nltk_data] Downloading package punkt to /Users/a81081529/nltk_data...\n",
      "[nltk_data]   Package punkt is already up-to-date!\n",
      "[nltk_data] Downloading package stopwords to\n",
      "[nltk_data]     /Users/a81081529/nltk_data...\n",
      "[nltk_data]   Package stopwords is already up-to-date!\n"
     ]
    },
    {
     "data": {
      "text/plain": [
       "True"
      ]
     },
     "execution_count": 1,
     "metadata": {},
     "output_type": "execute_result"
    }
   ],
   "source": [
    "import requests\n",
    "from bs4 import BeautifulSoup\n",
    "from googlesearch import search as google_search\n",
    "from transformers import pipeline\n",
    "import nltk\n",
    "from nltk.tokenize import sent_tokenize, word_tokenize\n",
    "from nltk.corpus import stopwords\n",
    "from collections import Counter\n",
    "from heapq import nlargest\n",
    "\n",
    "nltk.download('punkt')\n",
    "nltk.download('stopwords')\n"
   ]
  },
  {
   "cell_type": "markdown",
   "id": "55ba35f6",
   "metadata": {},
   "source": [
    "### fetch articles using google_Search and bs4"
   ]
  },
  {
   "cell_type": "code",
   "execution_count": 2,
   "id": "ff357ecb",
   "metadata": {},
   "outputs": [
    {
     "name": "stdout",
     "output_type": "stream",
     "text": [
      "Fetched article URLs:\n",
      "https://www.mykhel.com/cricket/players/virat-kohli-ipl-p3788/\n",
      "https://www.espncricinfo.com/ask/cricket-qna/Virat-Kohli-strike-rate-in-each-IPL-year&tournament=ipl/1000\n",
      "https://advancecricket.com/player/virat-kohli-ipl-stats-2023/102442\n",
      "https://timesofindia.indiatimes.com/sports/cricket/ipl/virat-kohli-ipl-career/featureshow/116493433.cms\n",
      "https://www.espncricinfo.com/records/tournament/batting-most-runs-career/indian-premier-league-2023-15129\n",
      "\n",
      "Sample Article Text (first 1000 chars):\n",
      " This website is using a security service to protect itself from online attacks. The action you just performed triggered the security solution. There are several actions that could trigger this block including submitting a certain word or phrase, a SQL command or malformed data. You can email the site owner to let them know you were blocked. Please include what you were doing when this page came up and the Cloudflare Ray ID found at the bottom of this page. \n",
      "Cloudflare Ray ID: 961932917cc8ba26\n",
      "•\n",
      "\n",
      "      Your IP:\n",
      "      Click to reveal\n",
      "2401:4900:1cb0:c0c4:3c40:41a7:cd54:18e3\n",
      "•\n",
      "\n",
      "Performance & security by Cloudflare\n",
      "\n"
     ]
    }
   ],
   "source": [
    "def fetch_articles_google(query, num_results=5):\n",
    "    return list(google_search(query, num_results=num_results))\n",
    "\n",
    "def get_article_text(url):\n",
    "    try:\n",
    "        response = requests.get(url, timeout=10)\n",
    "        soup = BeautifulSoup(response.text, 'html.parser')\n",
    "        paragraphs = soup.find_all('p')\n",
    "        return ' '.join([p.get_text() for p in paragraphs])\n",
    "    except Exception as e:\n",
    "        return f\"Error: {e}\"\n",
    "\n",
    "query = \"Virat Kohli IPL 2023\"\n",
    "articles = fetch_articles_google(query)\n",
    "print(\"Fetched article URLs:\")\n",
    "for url in articles:\n",
    "    print(url)\n",
    "\n",
    "sample_text = get_article_text(articles[0])\n",
    "print(\"\\nSample Article Text (first 1000 chars):\\n\", sample_text[:1000])\n"
   ]
  },
  {
   "cell_type": "markdown",
   "id": "41200415",
   "metadata": {},
   "source": [
    "### Summarising using extractive summarizer"
   ]
  },
  {
   "cell_type": "code",
   "execution_count": 3,
   "id": "df496630",
   "metadata": {},
   "outputs": [
    {
     "name": "stdout",
     "output_type": "stream",
     "text": [
      "\n",
      "Extractive Summary:\n",
      " Cloudflare Ray ID: 961932917cc8ba26\n",
      "•\n",
      "\n",
      "      Your IP:\n",
      "      Click to reveal\n",
      "2401:4900:1cb0:c0c4:3c40:41a7:cd54:18e3\n",
      "•\n",
      "\n",
      "Performance & security by Cloudflare Please include what you were doing when this page came up and the Cloudflare Ray ID found at the bottom of this page. There are several actions that could trigger this block including submitting a certain word or phrase, a SQL command or malformed data. This website is using a security service to protect itself from online attacks. The action you just performed triggered the security solution. You can email the site owner to let them know you were blocked.\n"
     ]
    }
   ],
   "source": [
    "def extractive_summarizer(text, target_length=150):\n",
    "    sentences = sent_tokenize(text)\n",
    "    words = word_tokenize(text.lower())\n",
    "    stop_words = set(stopwords.words('english'))\n",
    "    word_freq = {}\n",
    "    for word in words:\n",
    "        if word.isalnum() and word not in stop_words:\n",
    "            word_freq[word] = word_freq.get(word, 0) + 1\n",
    "    sentence_scores = {}\n",
    "    for sentence in sentences:\n",
    "        for word in word_tokenize(sentence.lower()):\n",
    "            if word in word_freq:\n",
    "                sentence_scores[sentence] = sentence_scores.get(sentence, 0) + word_freq[word]\n",
    "    summary_sentences = nlargest(max(1, min(len(sentences), target_length // 20)), sentence_scores, key=sentence_scores.get)\n",
    "    return ' '.join(summary_sentences)\n",
    "\n",
    "extractive_summary = extractive_summarizer(sample_text, 150)\n",
    "print(\"\\nExtractive Summary:\\n\", extractive_summary)\n"
   ]
  },
  {
   "cell_type": "markdown",
   "id": "c9ef7de8",
   "metadata": {},
   "source": [
    "### Using fine-tuned bart model, news articles are summarised."
   ]
  },
  {
   "cell_type": "code",
   "execution_count": 4,
   "id": "676ed067",
   "metadata": {},
   "outputs": [
    {
     "name": "stderr",
     "output_type": "stream",
     "text": [
      "Device set to use mps:0\n",
      "Your max_length is set to 180, but your input_length is only 169. Since this is a summarization task, where outputs shorter than the input are typically wanted, you might consider decreasing max_length manually, e.g. summarizer('...', max_length=84)\n",
      "Both `max_new_tokens` (=256) and `max_length`(=180) seem to have been set. `max_new_tokens` will take precedence. Please refer to the documentation for more information. (https://huggingface.co/docs/transformers/main/en/main_classes/text_generation)\n"
     ]
    },
    {
     "name": "stdout",
     "output_type": "stream",
     "text": [
      "\n",
      "Abstractive Summary (BART):\n",
      " This website is using a security service to protect itself from online attacks. The action you just performed triggered the security solution. There are several actions that could trigger this block including submitting a certain word or phrase, a SQL command or malformed data. You can email the site owner to let them know you were blocked. Please include what you were doing when this page came up and the Cloudflare Ray ID found at the bottom of this page. __________________________________________Cloudflare ID: 961932917cc8ba26• Â    Your IP: [email protected]•   •   Click to reveal your IP address:• IP Address: 961942401:4900:1cb0:c0c4:3c40:41a7:cd54:18e3• Email Address: https://www.cloudflare.com/Email Address: __________________________Performance & security by CloudFlare Ray\n"
     ]
    }
   ],
   "source": [
    "summarizer = pipeline(\"summarization\", model=\"facebook/bart-base\")\n",
    "abstractive_summary = summarizer(sample_text, max_length=180, min_length=30, do_sample=False)[0]['summary_text']\n",
    "print(\"\\nAbstractive Summary (BART):\\n\", abstractive_summary)\n"
   ]
  }
 ],
 "metadata": {
  "kernelspec": {
   "display_name": "3.10.11",
   "language": "python",
   "name": "python3"
  },
  "language_info": {
   "codemirror_mode": {
    "name": "ipython",
    "version": 3
   },
   "file_extension": ".py",
   "mimetype": "text/x-python",
   "name": "python",
   "nbconvert_exporter": "python",
   "pygments_lexer": "ipython3",
   "version": "3.10.11"
  }
 },
 "nbformat": 4,
 "nbformat_minor": 5
}
